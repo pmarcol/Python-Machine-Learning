{
 "cells": [
  {
   "cell_type": "code",
   "execution_count": 2,
   "metadata": {},
   "outputs": [],
   "source": [
    "# getting the data\n",
    "import pandas as pd\n",
    "from sklearn.preprocessing import StandardScaler\n",
    "from sklearn.model_selection import train_test_split\n",
    "\n",
    "df_wine = pd.read_csv(\"https://archive.ics.uci.edu/ml/machine-learning-databases/wine/wine.data\", header=None)\n",
    "df_wine.columns = ['Class label', 'Alcohol', 'Malic acid', 'Ash', 'Alkalinity of ash', 'Magnesium', 'Phenolic content',\n",
    "                  'Flavonoids', 'Non-flavonoid phenols', 'Proanthocyanidins', 'Color intensity', 'Shade',\n",
    "                   'Transmittancy 280/315 nm', 'Proline']\n",
    "\n",
    "X, y = df_wine.iloc[:, 1:].values, df_wine.iloc[:,0].values\n",
    "X_train, X_test, y_train, y_test = train_test_split(X, y, test_size=0.3, random_state=0)"
   ]
  },
  {
   "cell_type": "code",
   "execution_count": 5,
   "metadata": {},
   "outputs": [
    {
     "data": {
      "text/plain": [
       "RandomForestClassifier(bootstrap=True, class_weight=None, criterion='gini',\n",
       "            max_depth=None, max_features='auto', max_leaf_nodes=None,\n",
       "            min_impurity_decrease=0.0, min_impurity_split=None,\n",
       "            min_samples_leaf=1, min_samples_split=2,\n",
       "            min_weight_fraction_leaf=0.0, n_estimators=10000, n_jobs=-1,\n",
       "            oob_score=False, random_state=0, verbose=0, warm_start=False)"
      ]
     },
     "execution_count": 5,
     "metadata": {},
     "output_type": "execute_result"
    }
   ],
   "source": [
    "from sklearn.ensemble import RandomForestClassifier\n",
    "import numpy as np\n",
    "\n",
    "rf = RandomForestClassifier(n_estimators=10000, random_state=0, n_jobs=-1)\n",
    "rf.fit(X_train, y_train)"
   ]
  },
  {
   "cell_type": "code",
   "execution_count": 6,
   "metadata": {},
   "outputs": [
    {
     "name": "stdout",
     "output_type": "stream",
     "text": [
      " 1) Color intensity                0.182483\n",
      " 2) Proline                        0.158610\n",
      " 3) Flavonoids                     0.150948\n",
      " 4) Transmittancy 280/315 nm       0.131987\n",
      " 5) Alcohol                        0.106589\n",
      " 6) Shade                          0.078243\n",
      " 7) Phenolic content               0.060718\n",
      " 8) Alkalinity of ash              0.032033\n",
      " 9) Malic acid                     0.025400\n",
      "10) Proanthocyanidins              0.022351\n",
      "11) Magnesium                      0.022078\n",
      "12) Non-flavonoid phenols          0.014645\n",
      "13) Ash                            0.013916\n"
     ]
    }
   ],
   "source": [
    "ftr_labels = df_wine.columns[1:]\n",
    "importances = rf.feature_importances_\n",
    "indices = np.argsort(importances)[::-1]\n",
    "for f in range(X_train.shape[1]):\n",
    "    print(\"%2d) %-*s %f\" % (f+1, 30, ftr_labels[indices[f]], importances[indices[f]]))"
   ]
  },
  {
   "cell_type": "code",
   "execution_count": 16,
   "metadata": {},
   "outputs": [
    {
     "name": "stdout",
     "output_type": "stream",
     "text": [
      "{'Alcohol', 'Proline'}\n"
     ]
    }
   ],
   "source": [
    "rf_top5 = set(ftr_labels[indices[:5]])\n",
    "sbs_top5 = set(['Alcohol', 'Malic acid', 'Alkalinity of ash', 'Shade', 'Proline'])\n",
    "print(rf_top5.intersection(sbs_top5))"
   ]
  },
  {
   "cell_type": "markdown",
   "metadata": {},
   "source": [
    "just to remind: 5 features indicated by SBS algorithm were:<br>\n",
    "<i>['Alcohol', 'Malic acid', 'Alkalinity of ash', 'Shade', 'Proline']</i><br>\n",
    "so if we take the intersection of 5 best indicated by SBS<br>\n",
    "and RF, we get <i>{'Alcohol', 'Proline'}</i><br>\n",
    "...just a side note. Frankly, I was expecting more common features."
   ]
  },
  {
   "cell_type": "code",
   "execution_count": 36,
   "metadata": {},
   "outputs": [
    {
     "data": {
      "image/png": "[encoded data removed]",
      "text/plain": [
       "<Figure size 432x288 with 1 Axes>"
      ]
     },
     "metadata": {
      "needs_background": "light"
     },
     "output_type": "display_data"
    }
   ],
   "source": [
    "import matplotlib.pyplot as plt\n",
    "plt.title(\"Features importance\")\n",
    "plt.bar(range(X_train.shape[1]), importances[indices], align='center')\n",
    "\n",
    "plt.xticks(range(X_train.shape[1]), ftr_labels[indices], rotation=90)\n",
    "plt.xlim([-1, X_train.shape[1]])\n",
    "plt.tight_layout()\n",
    "for i, v in enumerate(importances[indices]):\n",
    "    plt.text(i-.5, v+0.01, \"%.2f\" % (v, ), fontweight='bold')\n",
    "plt.show()"
   ]
  }
 ],
 "metadata": {
  "kernelspec": {
   "display_name": "Python 3",
   "language": "python",
   "name": "python3"
  },
  "language_info": {
   "codemirror_mode": {
    "name": "ipython",
    "version": 3
   },
   "file_extension": ".py",
   "mimetype": "text/x-python",
   "name": "python",
   "nbconvert_exporter": "python",
   "pygments_lexer": "ipython3",
   "version": "3.7.0"
  }
 },
 "nbformat": 4,
 "nbformat_minor": 2
}
